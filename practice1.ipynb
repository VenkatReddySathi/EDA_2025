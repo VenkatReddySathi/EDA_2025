{
 "cells": [
  {
   "cell_type": "markdown",
   "id": "42a492da",
   "metadata": {},
   "source": []
  },
  {
   "cell_type": "code",
   "execution_count": 1,
   "id": "47a8e68e",
   "metadata": {},
   "outputs": [
    {
     "name": "stdout",
     "output_type": "stream",
     "text": [
      "6\n"
     ]
    }
   ],
   "source": [
    "age=int(input('Enter your age'))\n",
    "print(age)"
   ]
  },
  {
   "cell_type": "code",
   "execution_count": 2,
   "id": "18b7b92b",
   "metadata": {},
   "outputs": [],
   "source": [
    "age=float(input(age))"
   ]
  },
  {
   "cell_type": "code",
   "execution_count": 3,
   "id": "0f1bf127",
   "metadata": {},
   "outputs": [
    {
     "name": "stdout",
     "output_type": "stream",
     "text": [
      "6.0\n"
     ]
    }
   ],
   "source": [
    "\n",
    "print(age)\n"
   ]
  },
  {
   "cell_type": "code",
   "execution_count": 4,
   "id": "8c3b101d",
   "metadata": {},
   "outputs": [
    {
     "name": "stdout",
     "output_type": "stream",
     "text": [
      "add 15.0\n",
      "sub -1.0\n",
      "mul 56.0\n",
      "div 0.875\n"
     ]
    }
   ],
   "source": [
    "num1=float(input('Enter num1'))\n",
    "num2=float(input('Enter num2'))\n",
    "add=num1+num2\n",
    "sub=num1-num2\n",
    "mul=num1*num2\n",
    "div=num1/num2\n",
    "\n",
    "print('add',add)\n",
    "print('sub',sub)\n",
    "print('mul',mul)\n",
    "print('div',div)"
   ]
  },
  {
   "cell_type": "code",
   "execution_count": 7,
   "id": "392edd0e",
   "metadata": {},
   "outputs": [
    {
     "name": "stdout",
     "output_type": "stream",
     "text": [
      "hello string\n"
     ]
    }
   ],
   "source": [
    "a1='hello'\n",
    "print(a1+' string')"
   ]
  },
  {
   "cell_type": "code",
   "execution_count": 8,
   "id": "6dec0715",
   "metadata": {},
   "outputs": [
    {
     "name": "stdout",
     "output_type": "stream",
     "text": [
      "exp 1000.0\n",
      "floor 3.0\n",
      "mod 1.0\n"
     ]
    }
   ],
   "source": [
    "a=float(input('Enter a'))\n",
    "b=float(input('Enter b'))\n",
    "exp=a**b\n",
    "floor=a//b\n",
    "mod=a%b\n",
    "print('exp',exp)\n",
    "print('floor',floor)\n",
    "print('mod',mod)\n"
   ]
  },
  {
   "cell_type": "code",
   "execution_count": 9,
   "id": "644cde86",
   "metadata": {},
   "outputs": [
    {
     "name": "stdout",
     "output_type": "stream",
     "text": [
      "allowed for voting\n"
     ]
    }
   ],
   "source": [
    "age=20\n",
    "if age>=20:\n",
    "    print('allowed for voting')\n",
    "else:\n",
    "    print('not allowed')"
   ]
  },
  {
   "cell_type": "code",
   "execution_count": 10,
   "id": "adc69e84",
   "metadata": {},
   "outputs": [
    {
     "data": {
      "text/plain": [
       "True"
      ]
     },
     "execution_count": 10,
     "metadata": {},
     "output_type": "execute_result"
    }
   ],
   "source": [
    "age>=18"
   ]
  },
  {
   "cell_type": "code",
   "execution_count": 15,
   "id": "3e3f2cb8",
   "metadata": {},
   "outputs": [
    {
     "name": "stdout",
     "output_type": "stream",
     "text": [
      "adult\n",
      "56\n"
     ]
    }
   ],
   "source": [
    "age=int(input('Enter Age'))\n",
    "if age<13:\n",
    "    print('kids')\n",
    "elif age>13 and age<19:\n",
    "    print('teenage')\n",
    "else:\n",
    "    print('adult')\n",
    "    print(age)"
   ]
  },
  {
   "cell_type": "code",
   "execution_count": 19,
   "id": "52d6333b",
   "metadata": {},
   "outputs": [
    {
     "name": "stdout",
     "output_type": "stream",
     "text": [
      "Enter number\n",
      "-9\n",
      "Negative number\n"
     ]
    }
   ],
   "source": [
    "number=int(input(print('Enter number')))\n",
    "print(number)\n",
    "if number>0:\n",
    "    if number%2==0:\n",
    "        print('Even number')\n",
    "    else:\n",
    "        print('odd number')\n",
    "else:\n",
    "    print('Negative number')\n",
    "    \n"
   ]
  },
  {
   "cell_type": "code",
   "execution_count": 22,
   "id": "5876db42",
   "metadata": {},
   "outputs": [
    {
     "name": "stdout",
     "output_type": "stream",
     "text": [
      "range(0, 10, 2)\n"
     ]
    }
   ],
   "source": [
    "print(range(0,10,2))"
   ]
  },
  {
   "cell_type": "code",
   "execution_count": 23,
   "id": "b41f07d2",
   "metadata": {},
   "outputs": [
    {
     "name": "stdout",
     "output_type": "stream",
     "text": [
      "0\n",
      "1\n",
      "2\n",
      "3\n",
      "4\n",
      "5\n",
      "6\n",
      "7\n",
      "8\n",
      "9\n"
     ]
    }
   ],
   "source": [
    "for i in range(0,10):\n",
    "    print(i)"
   ]
  },
  {
   "cell_type": "code",
   "execution_count": 27,
   "id": "ee8b8c56",
   "metadata": {},
   "outputs": [
    {
     "name": "stdout",
     "output_type": "stream",
     "text": [
      "20\n",
      "19\n",
      "18\n",
      "17\n",
      "16\n",
      "15\n",
      "14\n",
      "13\n",
      "12\n",
      "11\n"
     ]
    }
   ],
   "source": [
    "for i in range(20,10,-1):\n",
    "    print(i)"
   ]
  },
  {
   "cell_type": "code",
   "execution_count": 28,
   "id": "0a4fa626",
   "metadata": {},
   "outputs": [
    {
     "name": "stdout",
     "output_type": "stream",
     "text": [
      "r\n",
      "a\n",
      "m\n",
      "a\n",
      "k\n",
      "r\n",
      "i\n",
      "s\n",
      "h\n",
      "n\n",
      "a\n",
      " \n",
      "r\n",
      "e\n",
      "d\n",
      "d\n",
      "y\n"
     ]
    }
   ],
   "source": [
    "str='ramakrishna reddy'\n",
    "for i in str:\n",
    "    print(i)"
   ]
  },
  {
   "cell_type": "code",
   "execution_count": 33,
   "id": "31408b41",
   "metadata": {},
   "outputs": [
    {
     "name": "stdout",
     "output_type": "stream",
     "text": [
      "1\n",
      "2\n",
      "3\n",
      "4\n",
      "5\n"
     ]
    }
   ],
   "source": [
    "count=1\n",
    "while count<=5:\n",
    "        print(count)\n",
    "        count=count+1\n"
   ]
  },
  {
   "cell_type": "code",
   "execution_count": 35,
   "id": "6da4e0c8",
   "metadata": {},
   "outputs": [
    {
     "name": "stdout",
     "output_type": "stream",
     "text": [
      "i,0,j,0\n",
      "i,0,j,1\n",
      "i,0,j,2\n",
      "i,0,j,3\n",
      "i,0,j,4\n",
      "i,1,j,0\n",
      "i,1,j,1\n",
      "i,1,j,2\n",
      "i,1,j,3\n",
      "i,1,j,4\n",
      "i,2,j,0\n",
      "i,2,j,1\n",
      "i,2,j,2\n",
      "i,2,j,3\n",
      "i,2,j,4\n",
      "i,3,j,0\n",
      "i,3,j,1\n",
      "i,3,j,2\n",
      "i,3,j,3\n",
      "i,3,j,4\n"
     ]
    }
   ],
   "source": [
    "for i in range(4):\n",
    "    for j in range(5):\n",
    "        print(f'i,{i},j,{j}')"
   ]
  },
  {
   "cell_type": "code",
   "execution_count": 36,
   "id": "669b0065",
   "metadata": {},
   "outputs": [],
   "source": [
    "lst=()"
   ]
  },
  {
   "cell_type": "code",
   "execution_count": 37,
   "id": "acc0a5c5",
   "metadata": {},
   "outputs": [
    {
     "name": "stdout",
     "output_type": "stream",
     "text": [
      "<class 'tuple'>\n"
     ]
    }
   ],
   "source": [
    "print(type(lst))"
   ]
  },
  {
   "cell_type": "code",
   "execution_count": 38,
   "id": "dc43febf",
   "metadata": {},
   "outputs": [],
   "source": [
    "lst={}"
   ]
  },
  {
   "cell_type": "code",
   "execution_count": 41,
   "id": "7dc3c674",
   "metadata": {},
   "outputs": [
    {
     "name": "stdout",
     "output_type": "stream",
     "text": [
      "<class 'tuple'>\n"
     ]
    }
   ],
   "source": [
    "print(type(lst))"
   ]
  },
  {
   "cell_type": "code",
   "execution_count": 40,
   "id": "6d0c2333",
   "metadata": {},
   "outputs": [],
   "source": [
    "lst=()"
   ]
  },
  {
   "cell_type": "code",
   "execution_count": 42,
   "id": "347939a4",
   "metadata": {},
   "outputs": [
    {
     "name": "stdout",
     "output_type": "stream",
     "text": [
      "<class 'tuple'>\n"
     ]
    }
   ],
   "source": [
    "print(type(lst))"
   ]
  },
  {
   "cell_type": "code",
   "execution_count": 60,
   "id": "a4a5c4c4",
   "metadata": {},
   "outputs": [
    {
     "name": "stdout",
     "output_type": "stream",
     "text": [
      "1\n"
     ]
    }
   ],
   "source": [
    "lst=['venkat',1,5,9.3,'surendra',4,24,'Rakshan']\n",
    "print(lst[0:4][1])"
   ]
  },
  {
   "cell_type": "code",
   "execution_count": 63,
   "id": "f7f6e34d",
   "metadata": {},
   "outputs": [
    {
     "name": "stdout",
     "output_type": "stream",
     "text": [
      "[1, 5, 9.3, 'surendra', 4, 24]\n"
     ]
    }
   ],
   "source": [
    "print(lst[1:7])"
   ]
  },
  {
   "cell_type": "code",
   "execution_count": 69,
   "id": "5d9ae6f9",
   "metadata": {},
   "outputs": [
    {
     "name": "stdout",
     "output_type": "stream",
     "text": [
      "9.3\n"
     ]
    }
   ],
   "source": [
    "print(lst[1:7][1:4][1])"
   ]
  },
  {
   "cell_type": "code",
   "execution_count": 73,
   "id": "dd2190c4",
   "metadata": {},
   "outputs": [
    {
     "name": "stdout",
     "output_type": "stream",
     "text": [
      "[9.3, 'surendra', 4, 24, 'Rakshan']\n"
     ]
    }
   ],
   "source": [
    "print(lst[3::])"
   ]
  },
  {
   "cell_type": "code",
   "execution_count": 75,
   "id": "48edb88a",
   "metadata": {},
   "outputs": [
    {
     "name": "stdout",
     "output_type": "stream",
     "text": [
      "[9, 6, 3]\n"
     ]
    }
   ],
   "source": [
    "numbers=[1,2,3,4,5,6,7,8,9]\n",
    "print(numbers[::-3])"
   ]
  },
  {
   "cell_type": "code",
   "execution_count": 76,
   "id": "c577769a",
   "metadata": {},
   "outputs": [
    {
     "name": "stdout",
     "output_type": "stream",
     "text": [
      "1\n",
      "2\n",
      "3\n",
      "4\n",
      "5\n",
      "6\n",
      "7\n",
      "8\n",
      "9\n"
     ]
    }
   ],
   "source": [
    "for i in numbers:\n",
    "    print(i)"
   ]
  },
  {
   "cell_type": "code",
   "execution_count": 77,
   "id": "03be0433",
   "metadata": {},
   "outputs": [
    {
     "name": "stdout",
     "output_type": "stream",
     "text": [
      "<enumerate object at 0x0000014B9840F2E0>\n"
     ]
    }
   ],
   "source": [
    "print(enumerate(numbers))"
   ]
  },
  {
   "cell_type": "code",
   "execution_count": 79,
   "id": "8ada56e9",
   "metadata": {},
   "outputs": [
    {
     "name": "stdout",
     "output_type": "stream",
     "text": [
      "[0, 1, 4, 9, 16, 25, 36, 49, 64, 81]\n"
     ]
    }
   ],
   "source": [
    "lst1=[]\n",
    "for i in range(10):\n",
    "    lst1.append(i**2)\n",
    "print(lst1)"
   ]
  },
  {
   "cell_type": "code",
   "execution_count": 81,
   "id": "a9d40f62",
   "metadata": {},
   "outputs": [
    {
     "name": "stdout",
     "output_type": "stream",
     "text": [
      "[[0, 4], [0, 5], [0, 6], [0, 7], [0, 3], [0, 4], [0, 2], [0, 1], [0, 2], [0, 3], [0, 4], [1, 4], [1, 5], [1, 6], [1, 7], [1, 3], [1, 4], [1, 2], [1, 1], [1, 2], [1, 3], [1, 4], [4, 4], [4, 5], [4, 6], [4, 7], [4, 3], [4, 4], [4, 2], [4, 1], [4, 2], [4, 3], [4, 4], [9, 4], [9, 5], [9, 6], [9, 7], [9, 3], [9, 4], [9, 2], [9, 1], [9, 2], [9, 3], [9, 4], [16, 4], [16, 5], [16, 6], [16, 7], [16, 3], [16, 4], [16, 2], [16, 1], [16, 2], [16, 3], [16, 4], [25, 4], [25, 5], [25, 6], [25, 7], [25, 3], [25, 4], [25, 2], [25, 1], [25, 2], [25, 3], [25, 4], [36, 4], [36, 5], [36, 6], [36, 7], [36, 3], [36, 4], [36, 2], [36, 1], [36, 2], [36, 3], [36, 4], [49, 4], [49, 5], [49, 6], [49, 7], [49, 3], [49, 4], [49, 2], [49, 1], [49, 2], [49, 3], [49, 4], [64, 4], [64, 5], [64, 6], [64, 7], [64, 3], [64, 4], [64, 2], [64, 1], [64, 2], [64, 3], [64, 4], [81, 4], [81, 5], [81, 6], [81, 7], [81, 3], [81, 4], [81, 2], [81, 1], [81, 2], [81, 3], [81, 4]]\n"
     ]
    }
   ],
   "source": [
    "lst2=[4,5,6,7,3,4,2,1,2,3,4]\n",
    "pair=[[i,j] for i in lst1 for j in lst2]\n",
    "print(pair)"
   ]
  },
  {
   "cell_type": "code",
   "execution_count": 90,
   "id": "7b77b380",
   "metadata": {},
   "outputs": [
    {
     "name": "stdout",
     "output_type": "stream",
     "text": [
      "['grape']\n"
     ]
    }
   ],
   "source": [
    "l=['apple',['banana',['grape']]]\n",
    "print(l[1][1])"
   ]
  },
  {
   "cell_type": "code",
   "execution_count": 96,
   "id": "983ff6df",
   "metadata": {},
   "outputs": [
    {
     "name": "stdout",
     "output_type": "stream",
     "text": [
      "['VK']\n"
     ]
    }
   ],
   "source": [
    "l=['Orange',['Nagpur',['MH',['Shivaji',['Shambaji',['Chava',['VK']]]]]]]\n",
    "print(l[1][1][1][1][1][1])"
   ]
  },
  {
   "cell_type": "code",
   "execution_count": 98,
   "id": "e7ab9450",
   "metadata": {},
   "outputs": [
    {
     "name": "stdout",
     "output_type": "stream",
     "text": [
      "onion\n"
     ]
    }
   ],
   "source": [
    "l=[[['onion']]]\n",
    "print(l[0][0][0])"
   ]
  },
  {
   "cell_type": "code",
   "execution_count": 104,
   "id": "1d2a76c0",
   "metadata": {},
   "outputs": [],
   "source": [
    "student={'student1':{'name':'venkat','age':32,'location':'HYD'},'student2':{'name':'venkat','age':32,'location':'HYD'}}"
   ]
  },
  {
   "cell_type": "code",
   "execution_count": 107,
   "id": "cdf32acb",
   "metadata": {},
   "outputs": [
    {
     "name": "stdout",
     "output_type": "stream",
     "text": [
      "32\n"
     ]
    }
   ],
   "source": [
    "print(student['student1']['age'])"
   ]
  },
  {
   "cell_type": "code",
   "execution_count": 111,
   "id": "9cef9dfc",
   "metadata": {},
   "outputs": [
    {
     "name": "stdout",
     "output_type": "stream",
     "text": [
      "student_id student1:student_info {'name': 'venkat', 'age': 32, 'location': 'HYD'}\n",
      "student_id student2:student_info {'name': 'venkat', 'age': 32, 'location': 'HYD'}\n",
      "stundent_name name:student_id venkat\n",
      "stundent_name age:student_id 32\n",
      "stundent_name location:student_id HYD\n"
     ]
    }
   ],
   "source": [
    "for student_id, student_info in student.items():\n",
    "    print(f'student_id {student_id}:student_info {student_info}')\n",
    "for student_name, student_id in student_info.items():\n",
    "    print(f'stundent_name {student_name}:student_id {student_id}')"
   ]
  },
  {
   "cell_type": "code",
   "execution_count": 112,
   "id": "2ffa2847",
   "metadata": {},
   "outputs": [],
   "source": [
    "import pandas as pd"
   ]
  },
  {
   "cell_type": "code",
   "execution_count": 115,
   "id": "753b4fbe",
   "metadata": {},
   "outputs": [],
   "source": [
    "s=pd.Series([1,2,3,4,5],index=[6,7,8,9,0])"
   ]
  },
  {
   "cell_type": "code",
   "execution_count": 116,
   "id": "9c1ba5b2",
   "metadata": {},
   "outputs": [
    {
     "name": "stdout",
     "output_type": "stream",
     "text": [
      "6    1\n",
      "7    2\n",
      "8    3\n",
      "9    4\n",
      "0    5\n",
      "dtype: int64\n"
     ]
    }
   ],
   "source": [
    "print(s)"
   ]
  },
  {
   "cell_type": "code",
   "execution_count": 119,
   "id": "53777693",
   "metadata": {},
   "outputs": [
    {
     "ename": "ValueError",
     "evalue": "Shape of passed values is (5, 1), indices imply (5, 5)",
     "output_type": "error",
     "traceback": [
      "\u001b[31m---------------------------------------------------------------------------\u001b[39m",
      "\u001b[31mValueError\u001b[39m                                Traceback (most recent call last)",
      "\u001b[36mCell\u001b[39m\u001b[36m \u001b[39m\u001b[32mIn[119]\u001b[39m\u001b[32m, line 1\u001b[39m\n\u001b[32m----> \u001b[39m\u001b[32m1\u001b[39m df=\u001b[43mpd\u001b[49m\u001b[43m.\u001b[49m\u001b[43mDataFrame\u001b[49m\u001b[43m(\u001b[49m\u001b[43m[\u001b[49m\u001b[32;43m1\u001b[39;49m\u001b[43m,\u001b[49m\u001b[32;43m2\u001b[39;49m\u001b[43m,\u001b[49m\u001b[32;43m3\u001b[39;49m\u001b[43m,\u001b[49m\u001b[32;43m4\u001b[39;49m\u001b[43m,\u001b[49m\u001b[32;43m5\u001b[39;49m\u001b[43m]\u001b[49m\u001b[43m,\u001b[49m\u001b[43m[\u001b[49m\u001b[33;43m'\u001b[39;49m\u001b[33;43ma\u001b[39;49m\u001b[33;43m'\u001b[39;49m\u001b[43m,\u001b[49m\u001b[33;43m'\u001b[39;49m\u001b[33;43mb\u001b[39;49m\u001b[33;43m'\u001b[39;49m\u001b[43m,\u001b[49m\u001b[33;43m'\u001b[39;49m\u001b[33;43mc\u001b[39;49m\u001b[33;43m'\u001b[39;49m\u001b[43m,\u001b[49m\u001b[33;43m'\u001b[39;49m\u001b[33;43md\u001b[39;49m\u001b[33;43m'\u001b[39;49m\u001b[43m,\u001b[49m\u001b[33;43m'\u001b[39;49m\u001b[33;43me\u001b[39;49m\u001b[33;43m'\u001b[39;49m\u001b[43m]\u001b[49m\u001b[43m,\u001b[49m\u001b[43m[\u001b[49m\u001b[32;43m6\u001b[39;49m\u001b[43m,\u001b[49m\u001b[32;43m7\u001b[39;49m\u001b[43m,\u001b[49m\u001b[32;43m8\u001b[39;49m\u001b[43m,\u001b[49m\u001b[32;43m9\u001b[39;49m\u001b[43m,\u001b[49m\u001b[32;43m2\u001b[39;49m\u001b[43m]\u001b[49m\u001b[43m)\u001b[49m\n",
      "\u001b[36mFile \u001b[39m\u001b[32mc:\\AI\\AI practice\\myenv\\Lib\\site-packages\\pandas\\core\\frame.py:867\u001b[39m, in \u001b[36mDataFrame.__init__\u001b[39m\u001b[34m(self, data, index, columns, dtype, copy)\u001b[39m\n\u001b[32m    859\u001b[39m         mgr = arrays_to_mgr(\n\u001b[32m    860\u001b[39m             arrays,\n\u001b[32m    861\u001b[39m             columns,\n\u001b[32m   (...)\u001b[39m\u001b[32m    864\u001b[39m             typ=manager,\n\u001b[32m    865\u001b[39m         )\n\u001b[32m    866\u001b[39m     \u001b[38;5;28;01melse\u001b[39;00m:\n\u001b[32m--> \u001b[39m\u001b[32m867\u001b[39m         mgr = \u001b[43mndarray_to_mgr\u001b[49m\u001b[43m(\u001b[49m\n\u001b[32m    868\u001b[39m \u001b[43m            \u001b[49m\u001b[43mdata\u001b[49m\u001b[43m,\u001b[49m\n\u001b[32m    869\u001b[39m \u001b[43m            \u001b[49m\u001b[43mindex\u001b[49m\u001b[43m,\u001b[49m\n\u001b[32m    870\u001b[39m \u001b[43m            \u001b[49m\u001b[43mcolumns\u001b[49m\u001b[43m,\u001b[49m\n\u001b[32m    871\u001b[39m \u001b[43m            \u001b[49m\u001b[43mdtype\u001b[49m\u001b[43m=\u001b[49m\u001b[43mdtype\u001b[49m\u001b[43m,\u001b[49m\n\u001b[32m    872\u001b[39m \u001b[43m            \u001b[49m\u001b[43mcopy\u001b[49m\u001b[43m=\u001b[49m\u001b[43mcopy\u001b[49m\u001b[43m,\u001b[49m\n\u001b[32m    873\u001b[39m \u001b[43m            \u001b[49m\u001b[43mtyp\u001b[49m\u001b[43m=\u001b[49m\u001b[43mmanager\u001b[49m\u001b[43m,\u001b[49m\n\u001b[32m    874\u001b[39m \u001b[43m        \u001b[49m\u001b[43m)\u001b[49m\n\u001b[32m    875\u001b[39m \u001b[38;5;28;01melse\u001b[39;00m:\n\u001b[32m    876\u001b[39m     mgr = dict_to_mgr(\n\u001b[32m    877\u001b[39m         {},\n\u001b[32m    878\u001b[39m         index,\n\u001b[32m   (...)\u001b[39m\u001b[32m    881\u001b[39m         typ=manager,\n\u001b[32m    882\u001b[39m     )\n",
      "\u001b[36mFile \u001b[39m\u001b[32mc:\\AI\\AI practice\\myenv\\Lib\\site-packages\\pandas\\core\\internals\\construction.py:336\u001b[39m, in \u001b[36mndarray_to_mgr\u001b[39m\u001b[34m(values, index, columns, dtype, copy, typ)\u001b[39m\n\u001b[32m    331\u001b[39m \u001b[38;5;66;03m# _prep_ndarraylike ensures that values.ndim == 2 at this point\u001b[39;00m\n\u001b[32m    332\u001b[39m index, columns = _get_axes(\n\u001b[32m    333\u001b[39m     values.shape[\u001b[32m0\u001b[39m], values.shape[\u001b[32m1\u001b[39m], index=index, columns=columns\n\u001b[32m    334\u001b[39m )\n\u001b[32m--> \u001b[39m\u001b[32m336\u001b[39m \u001b[43m_check_values_indices_shape_match\u001b[49m\u001b[43m(\u001b[49m\u001b[43mvalues\u001b[49m\u001b[43m,\u001b[49m\u001b[43m \u001b[49m\u001b[43mindex\u001b[49m\u001b[43m,\u001b[49m\u001b[43m \u001b[49m\u001b[43mcolumns\u001b[49m\u001b[43m)\u001b[49m\n\u001b[32m    338\u001b[39m \u001b[38;5;28;01mif\u001b[39;00m typ == \u001b[33m\"\u001b[39m\u001b[33marray\u001b[39m\u001b[33m\"\u001b[39m:\n\u001b[32m    339\u001b[39m     \u001b[38;5;28;01mif\u001b[39;00m \u001b[38;5;28missubclass\u001b[39m(values.dtype.type, \u001b[38;5;28mstr\u001b[39m):\n",
      "\u001b[36mFile \u001b[39m\u001b[32mc:\\AI\\AI practice\\myenv\\Lib\\site-packages\\pandas\\core\\internals\\construction.py:420\u001b[39m, in \u001b[36m_check_values_indices_shape_match\u001b[39m\u001b[34m(values, index, columns)\u001b[39m\n\u001b[32m    418\u001b[39m passed = values.shape\n\u001b[32m    419\u001b[39m implied = (\u001b[38;5;28mlen\u001b[39m(index), \u001b[38;5;28mlen\u001b[39m(columns))\n\u001b[32m--> \u001b[39m\u001b[32m420\u001b[39m \u001b[38;5;28;01mraise\u001b[39;00m \u001b[38;5;167;01mValueError\u001b[39;00m(\u001b[33mf\u001b[39m\u001b[33m\"\u001b[39m\u001b[33mShape of passed values is \u001b[39m\u001b[38;5;132;01m{\u001b[39;00mpassed\u001b[38;5;132;01m}\u001b[39;00m\u001b[33m, indices imply \u001b[39m\u001b[38;5;132;01m{\u001b[39;00mimplied\u001b[38;5;132;01m}\u001b[39;00m\u001b[33m\"\u001b[39m)\n",
      "\u001b[31mValueError\u001b[39m: Shape of passed values is (5, 1), indices imply (5, 5)"
     ]
    }
   ],
   "source": [
    "df=pd.DataFrame([1,2,3,4,5],['a','b','c','d','e'],[6,7,8,9,2])"
   ]
  },
  {
   "cell_type": "code",
   "execution_count": 118,
   "id": "874df88e",
   "metadata": {},
   "outputs": [
    {
     "name": "stdout",
     "output_type": "stream",
     "text": [
      "   0\n",
      "6  1\n",
      "7  2\n",
      "8  3\n",
      "9  4\n",
      "2  5\n"
     ]
    }
   ],
   "source": [
    "print(df)"
   ]
  },
  {
   "cell_type": "code",
   "execution_count": 121,
   "id": "113156e3",
   "metadata": {},
   "outputs": [
    {
     "name": "stdout",
     "output_type": "stream",
     "text": [
      "[1 2 3]\n",
      "6\n",
      "6\n",
      "[2 5]\n",
      "[[2 3]\n",
      " [5 6]]\n"
     ]
    }
   ],
   "source": [
    "import numpy as np\n",
    "\n",
    "arr = np.array([[1, 2, 3],\n",
    "                [4, 5, 6]])\n",
    "\n",
    "# Indexing\n",
    "print(arr[0])         # ➤ [1 2 3] (first row)\n",
    "print(arr[1, 2])      # ➤ 6 (row 1, col 2)\n",
    "print(arr[1][2])\n",
    "print(arr[:, 1])      # ➤ [2 5] (2nd column)\n",
    "\n",
    "# Slicing\n",
    "print(arr[0:2, 1:])   # ➤ [[2 3], [5 6]]\n"
   ]
  },
  {
   "cell_type": "code",
   "execution_count": null,
   "id": "b293aefa",
   "metadata": {},
   "outputs": [
    {
     "name": "stdout",
     "output_type": "stream",
     "text": [
      "      Name  Age     City\n",
      "a    Alice   25       NY\n",
      "b      Bob   30       LA\n",
      "c  Charlie   35  Chicago\n",
      "Name    Alice\n",
      "Age        25\n",
      "City       NY\n",
      "Name: a, dtype: object\n",
      "Bob\n",
      "Name    Alice\n",
      "Age        25\n",
      "City       NY\n",
      "Name: a, dtype: object\n",
      "LA\n",
      "    Name  Age\n",
      "a  Alice   25\n",
      "b    Bob   30\n",
      "a      Alice\n",
      "b        Bob\n",
      "c    Charlie\n",
      "Name: Name, dtype: object\n"
     ]
    }
   ],
   "source": [
    "import pandas as pd\n",
    "\n",
    "data = {\n",
    "    'Name': ['Alice', 'Bob', 'Charlie'],\n",
    "    'Age': [25, 30, 35],\n",
    "    'City': ['NY', 'LA', 'Chicago']\n",
    "}\n",
    "df = pd.DataFrame(data, index=['a', 'b', 'c'])\n",
    "# df=pd.DataFrame(data)\n",
    "print(df)\n",
    "\n",
    "# Label-based indexing using .loc\n",
    "print(df.loc['a'])           # ➤ Row with index 'a'\n",
    "print(df.loc['b', 'Name'])   # ➤ 'Bob'\n",
    "\n",
    "# Position-based indexing using .iloc\n",
    "print(df.iloc[0])            # ➤ First row\n",
    "print(df.iloc[1, 2])         # ➤ 'LA'\n",
    "\n",
    "# Slicing\n",
    "print(df.iloc[0:2, 0:2])     # ➤ First 2 rows & first 2 columns\n",
    "\n",
    "# Mixed indexing\n",
    "print(df['Name'])            # ➤ Column access\n"
   ]
  },
  {
   "cell_type": "code",
   "execution_count": null,
   "id": "d49461f0",
   "metadata": {},
   "outputs": [],
   "source": []
  }
 ],
 "metadata": {
  "kernelspec": {
   "display_name": "Python 3",
   "language": "python",
   "name": "python3"
  },
  "language_info": {
   "codemirror_mode": {
    "name": "ipython",
    "version": 3
   },
   "file_extension": ".py",
   "mimetype": "text/x-python",
   "name": "python",
   "nbconvert_exporter": "python",
   "pygments_lexer": "ipython3",
   "version": "3.12.7"
  }
 },
 "nbformat": 4,
 "nbformat_minor": 5
}
